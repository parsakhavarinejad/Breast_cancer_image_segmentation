{
 "metadata": {
  "kernelspec": {
   "language": "python",
   "display_name": "Python 3",
   "name": "python3"
  },
  "language_info": {
   "name": "python",
   "version": "3.10.10",
   "mimetype": "text/x-python",
   "codemirror_mode": {
    "name": "ipython",
    "version": 3
   },
   "pygments_lexer": "ipython3",
   "nbconvert_exporter": "python",
   "file_extension": ".py"
  }
 },
 "nbformat_minor": 4,
 "nbformat": 4,
 "cells": [
  {
   "cell_type": "code",
   "source": [],
   "metadata": {
    "execution": {
     "iopub.status.busy": "2023-09-02T15:27:33.095688Z",
     "iopub.execute_input": "2023-09-02T15:27:33.096135Z",
     "iopub.status.idle": "2023-09-02T15:27:33.100199Z",
     "shell.execute_reply.started": "2023-09-02T15:27:33.096100Z",
     "shell.execute_reply": "2023-09-02T15:27:33.099191Z"
    },
    "trusted": true
   },
   "execution_count": 57,
   "outputs": []
  },
  {
   "cell_type": "code",
   "source": [
    "import pandas as pd\n",
    "import numpy as np\n",
    "import matplotlib.pyplot as plt\n",
    "import seaborn as sns\n",
    "import os\n",
    "import cv2\n",
    "\n",
    "import warnings\n",
    "warnings.filterwarnings(\"ignore\")\n",
    "\n",
    "import glob\n",
    "\n",
    "from sklearn.model_selection import train_test_split"
   ],
   "metadata": {
    "execution": {
     "iopub.status.busy": "2023-09-02T15:27:33.124367Z",
     "iopub.execute_input": "2023-09-02T15:27:33.125040Z",
     "iopub.status.idle": "2023-09-02T15:27:33.133039Z",
     "shell.execute_reply.started": "2023-09-02T15:27:33.125005Z",
     "shell.execute_reply": "2023-09-02T15:27:33.131786Z"
    },
    "trusted": true,
    "ExecuteTime": {
     "end_time": "2023-11-07T11:53:26.287417500Z",
     "start_time": "2023-11-07T11:53:26.049893900Z"
    }
   },
   "execution_count": 1,
   "outputs": []
  },
  {
   "cell_type": "code",
   "source": [
    "masks = glob.glob(\"../data/Dataset_BUSI_with_GT/*/*_mask.png\")"
   ],
   "metadata": {
    "execution": {
     "iopub.status.busy": "2023-09-02T15:27:33.151251Z",
     "iopub.execute_input": "2023-09-02T15:27:33.152026Z",
     "iopub.status.idle": "2023-09-02T15:27:33.163512Z",
     "shell.execute_reply.started": "2023-09-02T15:27:33.151986Z",
     "shell.execute_reply": "2023-09-02T15:27:33.162398Z"
    },
    "trusted": true,
    "ExecuteTime": {
     "end_time": "2023-11-07T11:53:28.273221Z",
     "start_time": "2023-11-07T11:53:28.248398100Z"
    }
   },
   "execution_count": 2,
   "outputs": []
  },
  {
   "cell_type": "code",
   "source": [
    "masks[:4]"
   ],
   "metadata": {
    "execution": {
     "iopub.status.busy": "2023-09-02T15:27:33.165470Z",
     "iopub.execute_input": "2023-09-02T15:27:33.165913Z",
     "iopub.status.idle": "2023-09-02T15:27:33.172430Z",
     "shell.execute_reply.started": "2023-09-02T15:27:33.165877Z",
     "shell.execute_reply": "2023-09-02T15:27:33.171448Z"
    },
    "trusted": true,
    "ExecuteTime": {
     "end_time": "2023-11-07T11:53:42.418226500Z",
     "start_time": "2023-11-07T11:53:42.388340500Z"
    }
   },
   "execution_count": 6,
   "outputs": [
    {
     "data": {
      "text/plain": "['../data/Dataset_BUSI_with_GT\\\\benign\\\\benign (1)_mask.png',\n '../data/Dataset_BUSI_with_GT\\\\benign\\\\benign (10)_mask.png',\n '../data/Dataset_BUSI_with_GT\\\\benign\\\\benign (100)_mask.png',\n '../data/Dataset_BUSI_with_GT\\\\benign\\\\benign (101)_mask.png']"
     },
     "execution_count": 6,
     "metadata": {},
     "output_type": "execute_result"
    }
   ]
  },
  {
   "cell_type": "code",
   "source": [
    "images = [mask_images.replace(\"_mask\", \"\") for mask_images in masks]"
   ],
   "metadata": {
    "execution": {
     "iopub.status.busy": "2023-09-02T15:27:33.233635Z",
     "iopub.execute_input": "2023-09-02T15:27:33.234793Z",
     "iopub.status.idle": "2023-09-02T15:27:33.240765Z",
     "shell.execute_reply.started": "2023-09-02T15:27:33.234745Z",
     "shell.execute_reply": "2023-09-02T15:27:33.239743Z"
    },
    "trusted": true,
    "ExecuteTime": {
     "end_time": "2023-11-07T11:53:33.425337100Z",
     "start_time": "2023-11-07T11:53:33.404026100Z"
    }
   },
   "execution_count": 4,
   "outputs": []
  },
  {
   "cell_type": "code",
   "source": [
    "images[:4]"
   ],
   "metadata": {
    "execution": {
     "iopub.status.busy": "2023-09-02T15:27:33.243006Z",
     "iopub.execute_input": "2023-09-02T15:27:33.243882Z",
     "iopub.status.idle": "2023-09-02T15:27:33.253382Z",
     "shell.execute_reply.started": "2023-09-02T15:27:33.243697Z",
     "shell.execute_reply": "2023-09-02T15:27:33.252302Z"
    },
    "trusted": true,
    "ExecuteTime": {
     "end_time": "2023-11-07T11:54:53.639368100Z",
     "start_time": "2023-11-07T11:54:53.631409900Z"
    }
   },
   "execution_count": 8,
   "outputs": [
    {
     "data": {
      "text/plain": "['../data/Dataset_BUSI_with_GT\\\\benign\\\\benign (1).png',\n '../data/Dataset_BUSI_with_GT\\\\benign\\\\benign (10).png',\n '../data/Dataset_BUSI_with_GT\\\\benign\\\\benign (100).png',\n '../data/Dataset_BUSI_with_GT\\\\benign\\\\benign (101).png']"
     },
     "execution_count": 8,
     "metadata": {},
     "output_type": "execute_result"
    }
   ]
  },
  {
   "cell_type": "code",
   "source": [
    "series = list(zip(images, masks))"
   ],
   "metadata": {
    "execution": {
     "iopub.status.busy": "2023-09-02T15:27:33.254961Z",
     "iopub.execute_input": "2023-09-02T15:27:33.255941Z",
     "iopub.status.idle": "2023-09-02T15:27:33.263326Z",
     "shell.execute_reply.started": "2023-09-02T15:27:33.255907Z",
     "shell.execute_reply": "2023-09-02T15:27:33.262356Z"
    },
    "trusted": true,
    "ExecuteTime": {
     "end_time": "2023-11-07T11:54:56.563020300Z",
     "start_time": "2023-11-07T11:54:56.538443400Z"
    }
   },
   "execution_count": 9,
   "outputs": []
  },
  {
   "cell_type": "code",
   "source": [
    "series[:4]"
   ],
   "metadata": {
    "execution": {
     "iopub.status.busy": "2023-09-02T15:27:33.266533Z",
     "iopub.execute_input": "2023-09-02T15:27:33.267338Z",
     "iopub.status.idle": "2023-09-02T15:27:33.275057Z",
     "shell.execute_reply.started": "2023-09-02T15:27:33.267302Z",
     "shell.execute_reply": "2023-09-02T15:27:33.273990Z"
    },
    "trusted": true,
    "ExecuteTime": {
     "end_time": "2023-11-07T11:54:56.881726Z",
     "start_time": "2023-11-07T11:54:56.865023800Z"
    }
   },
   "execution_count": 10,
   "outputs": [
    {
     "data": {
      "text/plain": "[('../data/Dataset_BUSI_with_GT\\\\benign\\\\benign (1).png',\n  '../data/Dataset_BUSI_with_GT\\\\benign\\\\benign (1)_mask.png'),\n ('../data/Dataset_BUSI_with_GT\\\\benign\\\\benign (10).png',\n  '../data/Dataset_BUSI_with_GT\\\\benign\\\\benign (10)_mask.png'),\n ('../data/Dataset_BUSI_with_GT\\\\benign\\\\benign (100).png',\n  '../data/Dataset_BUSI_with_GT\\\\benign\\\\benign (100)_mask.png'),\n ('../data/Dataset_BUSI_with_GT\\\\benign\\\\benign (101).png',\n  '../data/Dataset_BUSI_with_GT\\\\benign\\\\benign (101)_mask.png')]"
     },
     "execution_count": 10,
     "metadata": {},
     "output_type": "execute_result"
    }
   ]
  },
  {
   "cell_type": "code",
   "source": [
    "dataset = pd.DataFrame(series, columns=['image_path', 'mask_path'])"
   ],
   "metadata": {
    "execution": {
     "iopub.status.busy": "2023-09-02T15:27:33.278304Z",
     "iopub.execute_input": "2023-09-02T15:27:33.278875Z",
     "iopub.status.idle": "2023-09-02T15:27:33.285299Z",
     "shell.execute_reply.started": "2023-09-02T15:27:33.278821Z",
     "shell.execute_reply": "2023-09-02T15:27:33.284327Z"
    },
    "trusted": true,
    "ExecuteTime": {
     "end_time": "2023-11-07T11:55:02.619661500Z",
     "start_time": "2023-11-07T11:55:02.608200200Z"
    }
   },
   "execution_count": 11,
   "outputs": []
  },
  {
   "cell_type": "code",
   "source": [
    "dataset"
   ],
   "metadata": {
    "execution": {
     "iopub.status.busy": "2023-09-02T15:27:33.286651Z",
     "iopub.execute_input": "2023-09-02T15:27:33.287469Z",
     "iopub.status.idle": "2023-09-02T15:27:33.302509Z",
     "shell.execute_reply.started": "2023-09-02T15:27:33.287436Z",
     "shell.execute_reply": "2023-09-02T15:27:33.301296Z"
    },
    "trusted": true,
    "ExecuteTime": {
     "end_time": "2023-11-07T11:55:03.835733200Z",
     "start_time": "2023-11-07T11:55:03.820491700Z"
    }
   },
   "execution_count": 12,
   "outputs": [
    {
     "data": {
      "text/plain": "                                            image_path  \\\n0    ../data/Dataset_BUSI_with_GT\\benign\\benign (1)...   \n1    ../data/Dataset_BUSI_with_GT\\benign\\benign (10...   \n2    ../data/Dataset_BUSI_with_GT\\benign\\benign (10...   \n3    ../data/Dataset_BUSI_with_GT\\benign\\benign (10...   \n4    ../data/Dataset_BUSI_with_GT\\benign\\benign (10...   \n..                                                 ...   \n775  ../data/Dataset_BUSI_with_GT\\normal\\normal (95...   \n776  ../data/Dataset_BUSI_with_GT\\normal\\normal (96...   \n777  ../data/Dataset_BUSI_with_GT\\normal\\normal (97...   \n778  ../data/Dataset_BUSI_with_GT\\normal\\normal (98...   \n779  ../data/Dataset_BUSI_with_GT\\normal\\normal (99...   \n\n                                             mask_path  \n0    ../data/Dataset_BUSI_with_GT\\benign\\benign (1)...  \n1    ../data/Dataset_BUSI_with_GT\\benign\\benign (10...  \n2    ../data/Dataset_BUSI_with_GT\\benign\\benign (10...  \n3    ../data/Dataset_BUSI_with_GT\\benign\\benign (10...  \n4    ../data/Dataset_BUSI_with_GT\\benign\\benign (10...  \n..                                                 ...  \n775  ../data/Dataset_BUSI_with_GT\\normal\\normal (95...  \n776  ../data/Dataset_BUSI_with_GT\\normal\\normal (96...  \n777  ../data/Dataset_BUSI_with_GT\\normal\\normal (97...  \n778  ../data/Dataset_BUSI_with_GT\\normal\\normal (98...  \n779  ../data/Dataset_BUSI_with_GT\\normal\\normal (99...  \n\n[780 rows x 2 columns]",
      "text/html": "<div>\n<style scoped>\n    .dataframe tbody tr th:only-of-type {\n        vertical-align: middle;\n    }\n\n    .dataframe tbody tr th {\n        vertical-align: top;\n    }\n\n    .dataframe thead th {\n        text-align: right;\n    }\n</style>\n<table border=\"1\" class=\"dataframe\">\n  <thead>\n    <tr style=\"text-align: right;\">\n      <th></th>\n      <th>image_path</th>\n      <th>mask_path</th>\n    </tr>\n  </thead>\n  <tbody>\n    <tr>\n      <th>0</th>\n      <td>../data/Dataset_BUSI_with_GT\\benign\\benign (1)...</td>\n      <td>../data/Dataset_BUSI_with_GT\\benign\\benign (1)...</td>\n    </tr>\n    <tr>\n      <th>1</th>\n      <td>../data/Dataset_BUSI_with_GT\\benign\\benign (10...</td>\n      <td>../data/Dataset_BUSI_with_GT\\benign\\benign (10...</td>\n    </tr>\n    <tr>\n      <th>2</th>\n      <td>../data/Dataset_BUSI_with_GT\\benign\\benign (10...</td>\n      <td>../data/Dataset_BUSI_with_GT\\benign\\benign (10...</td>\n    </tr>\n    <tr>\n      <th>3</th>\n      <td>../data/Dataset_BUSI_with_GT\\benign\\benign (10...</td>\n      <td>../data/Dataset_BUSI_with_GT\\benign\\benign (10...</td>\n    </tr>\n    <tr>\n      <th>4</th>\n      <td>../data/Dataset_BUSI_with_GT\\benign\\benign (10...</td>\n      <td>../data/Dataset_BUSI_with_GT\\benign\\benign (10...</td>\n    </tr>\n    <tr>\n      <th>...</th>\n      <td>...</td>\n      <td>...</td>\n    </tr>\n    <tr>\n      <th>775</th>\n      <td>../data/Dataset_BUSI_with_GT\\normal\\normal (95...</td>\n      <td>../data/Dataset_BUSI_with_GT\\normal\\normal (95...</td>\n    </tr>\n    <tr>\n      <th>776</th>\n      <td>../data/Dataset_BUSI_with_GT\\normal\\normal (96...</td>\n      <td>../data/Dataset_BUSI_with_GT\\normal\\normal (96...</td>\n    </tr>\n    <tr>\n      <th>777</th>\n      <td>../data/Dataset_BUSI_with_GT\\normal\\normal (97...</td>\n      <td>../data/Dataset_BUSI_with_GT\\normal\\normal (97...</td>\n    </tr>\n    <tr>\n      <th>778</th>\n      <td>../data/Dataset_BUSI_with_GT\\normal\\normal (98...</td>\n      <td>../data/Dataset_BUSI_with_GT\\normal\\normal (98...</td>\n    </tr>\n    <tr>\n      <th>779</th>\n      <td>../data/Dataset_BUSI_with_GT\\normal\\normal (99...</td>\n      <td>../data/Dataset_BUSI_with_GT\\normal\\normal (99...</td>\n    </tr>\n  </tbody>\n</table>\n<p>780 rows × 2 columns</p>\n</div>"
     },
     "execution_count": 12,
     "metadata": {},
     "output_type": "execute_result"
    }
   ]
  },
  {
   "cell_type": "code",
   "source": [
    "train, test= train_test_split(dataset, test_size=0.2)"
   ],
   "metadata": {
    "execution": {
     "iopub.status.busy": "2023-09-02T15:27:33.304071Z",
     "iopub.execute_input": "2023-09-02T15:27:33.305053Z",
     "iopub.status.idle": "2023-09-02T15:27:33.312721Z",
     "shell.execute_reply.started": "2023-09-02T15:27:33.305014Z",
     "shell.execute_reply": "2023-09-02T15:27:33.311666Z"
    },
    "trusted": true,
    "ExecuteTime": {
     "end_time": "2023-11-07T11:55:27.332572200Z",
     "start_time": "2023-11-07T11:55:27.321704400Z"
    }
   },
   "execution_count": 13,
   "outputs": []
  },
  {
   "cell_type": "code",
   "execution_count": 19,
   "outputs": [],
   "source": [
    "import torchvision.transforms as transforms\n",
    "from torchvision.datasets import ImageFolder\n",
    "from torch.utils.data import DataLoader\n",
    "import torch\n",
    "torch.cuda.set_device(0)"
   ],
   "metadata": {
    "collapsed": false,
    "ExecuteTime": {
     "end_time": "2023-11-07T12:03:55.463170200Z",
     "start_time": "2023-11-07T12:03:55.462662700Z"
    }
   }
  },
  {
   "cell_type": "code",
   "execution_count": 64,
   "outputs": [],
   "source": [
    "import torch\n",
    "from torch.utils.data import Dataset\n",
    "from torchvision import transforms\n",
    "from PIL import Image\n",
    "import pandas as pd\n",
    "import cv2 as cv\n",
    "\n",
    "class CustomImageMaskDataset(Dataset):\n",
    "    def __init__(self, dataframe, image_transform=None):\n",
    "        self.data = dataframe\n",
    "        self.image_transform = image_transform\n",
    "\n",
    "    def __len__(self):\n",
    "        return len(self.data)\n",
    "\n",
    "    def __getitem__(self, idx):\n",
    "        image_path = self.data.iloc[idx, 0]\n",
    "        mask_path = self.data.iloc[idx, 1]\n",
    "\n",
    "        image = cv.imread(image_path, cv.IMREAD_GRAYSCALE)\n",
    "        mask = cv.imread(mask_path, cv.IMREAD_GRAYSCALE)\n",
    "\n",
    "        if self.image_transform:\n",
    "            image = self.image_transform(image)\n",
    "\n",
    "        return image, mask\n",
    "\n",
    "# Define transformations for images and masks\n",
    "train_transforms = transforms.Compose([\n",
    "    transforms.Resize((256, 256)),\n",
    "    transforms.ToTensor()\n",
    "])\n",
    "\n",
    "val_transforms = transforms.Compose([\n",
    "    transforms.Resize((256, 256)),\n",
    "    transforms.ToTensor()\n",
    "])"
   ],
   "metadata": {
    "collapsed": false,
    "ExecuteTime": {
     "end_time": "2023-11-07T12:49:19.763553300Z",
     "start_time": "2023-11-07T12:49:19.758933100Z"
    }
   }
  },
  {
   "cell_type": "code",
   "execution_count": 65,
   "outputs": [],
   "source": [
    "custom_dataset = CustomImageMaskDataset(train, train_transforms)\n",
    "\n",
    "# Create a data loader to iterate over the dataset\n",
    "batch_size = 32  # Set your desired batch size\n",
    "dataloader = torch.utils.data.DataLoader(custom_dataset, batch_size=batch_size, shuffle=True)\n"
   ],
   "metadata": {
    "collapsed": false,
    "ExecuteTime": {
     "end_time": "2023-11-07T12:49:20.064008Z",
     "start_time": "2023-11-07T12:49:20.055422100Z"
    }
   }
  },
  {
   "cell_type": "code",
   "execution_count": 66,
   "outputs": [],
   "source": [
    "device = torch.device(\"cuda:0\" if torch.cuda.is_available() else \"cpu\")\n"
   ],
   "metadata": {
    "collapsed": false,
    "ExecuteTime": {
     "end_time": "2023-11-07T12:49:21.052253300Z",
     "start_time": "2023-11-07T12:49:21.046866300Z"
    }
   }
  },
  {
   "cell_type": "code",
   "execution_count": 67,
   "outputs": [
    {
     "data": {
      "text/plain": "device(type='cuda', index=0)"
     },
     "execution_count": 67,
     "metadata": {},
     "output_type": "execute_result"
    }
   ],
   "source": [
    "device"
   ],
   "metadata": {
    "collapsed": false,
    "ExecuteTime": {
     "end_time": "2023-11-07T12:49:21.751517600Z",
     "start_time": "2023-11-07T12:49:21.744643500Z"
    }
   }
  },
  {
   "cell_type": "code",
   "execution_count": 2,
   "outputs": [],
   "source": [
    "import torch\n",
    "import torch.nn as nn\n",
    "import torch.nn.functional as F\n",
    "\n",
    "\n",
    "class ConvBlock(nn.Module):\n",
    "\n",
    "    def __init__(self, input_channel, out_channel):\n",
    "        super().__init__()\n",
    "        self.conv2d_1 = nn.Conv2d(input_channel, out_channel, kernel_size=3, padding='same')\n",
    "        self.batchnorm_1 = nn.BatchNorm2d(out_channel)\n",
    "        self.gelu_1 = nn.GELU()\n",
    "\n",
    "        self.conv2d_2 = nn.Conv2d(input_channel, out_channel, kernel_size=3, padding='same')\n",
    "        self.batchnorm_2 = nn.BatchNorm2d(out_channel)\n",
    "        self.gelu_2 = nn.GELU()\n",
    "\n",
    "    def forward(self, x):\n",
    "        x = self.conv2d_1(x)\n",
    "        x = self.batchnorm_1(x)\n",
    "        x = self.gelu_1(x)\n",
    "\n",
    "        x = self.conv2d_2(x)\n",
    "        x = self.batchnorm_2(x)\n",
    "        x = self.gelu_2(x)\n",
    "\n",
    "        return x\n",
    "\n",
    "class Encoder(nn.Module):\n",
    "\n",
    "    def __init__(self, input_channel, out_channel):\n",
    "        super().__init__()\n",
    "        self.conv2d_1 = ConvBlock(input_channel, out_channel)\n",
    "        self.maxpool = nn.MaxPool2d((2,2))\n",
    "\n",
    "    def forward(self, x):\n",
    "        x = self.conv2d_1(x)\n",
    "        p = self.maxpool(x)\n",
    "\n",
    "        return x, p\n",
    "\n",
    "class Decoder(nn.Module):\n",
    "\n",
    "    def __init__(self, input_channel, output_channel):\n",
    "        super().__init__()\n",
    "        self.conv_t = nn.ConvTranspose2d(input_channel, output_channel, stride=2, kernel_size=3)\n",
    "        self.conv2d_1 = ConvBlock(input_channel, output_channel)\n",
    "\n",
    "    def forward(self, x, skip):\n",
    "        x = self.conv_t(x)\n",
    "        x = torch.cat([x, skip], dim=1)\n",
    "        x = self.conv2d_1(x)\n",
    "\n",
    "        return x"
   ],
   "metadata": {
    "collapsed": false,
    "ExecuteTime": {
     "end_time": "2023-11-13T10:04:06.013846400Z",
     "start_time": "2023-11-13T10:04:06.011562300Z"
    }
   }
  },
  {
   "cell_type": "code",
   "execution_count": 3,
   "outputs": [],
   "source": [
    "class Unet(nn.Module):\n",
    "\n",
    "    def __init__(self, input_chennel=3):\n",
    "        super().__init__()\n",
    "        self.encoder_1 = Encoder(input_chennel, 64)\n",
    "        self.encoder_2 = Encoder(64, 128)\n",
    "        self.encoder_3 = Encoder(128, 256)\n",
    "        self.encoder_4 = Encoder(256, 512)\n",
    "\n",
    "        self.conv_block = ConvBlock(512, 1024)\n",
    "\n",
    "        self.decoder_1 = Decoder(1024, 512)\n",
    "        self.decoder_2 = Decoder(512, 256)\n",
    "        self.decoder_3 = Decoder(256, 128)\n",
    "        self.decoder_4 = Decoder(128, 64)\n",
    "\n",
    "        self.cls = nn.Conv2d(64, 1, kernel_size=1, padding=0)\n",
    "\n",
    "    def forward(self, x):\n",
    "\n",
    "        \"\"\" ------ Encoder ------\"\"\"\n",
    "        x1, p1 = self.encoder_1(x)\n",
    "        x2, p2 = self.encoder_2(p1)\n",
    "        x3, p3 = self.encoder_3(p2)\n",
    "        x4, p4 = self.encoder_4(p3)\n",
    "\n",
    "        \"\"\" ------ BottleNeck ------\"\"\"\n",
    "        x6 = self.conv_block(p4)\n",
    "\n",
    "        \"\"\" ------ Decoder ------\"\"\"\n",
    "        x7 = self.decoder_1(x6, x4)\n",
    "        x8 = self.decoder_1(x7, x3)\n",
    "        x9 = self.decoder_1(x8, x2)\n",
    "        x10 = self.decoder_1(x9, x1)\n",
    "\n",
    "        \"\"\" ------ Final Layer ------\"\"\"\n",
    "        x_final = self.cls(x10)\n",
    "\n",
    "        return x_final\n"
   ],
   "metadata": {
    "collapsed": false,
    "ExecuteTime": {
     "end_time": "2023-11-13T10:11:26.655512200Z",
     "start_time": "2023-11-13T10:11:26.628345600Z"
    }
   }
  },
  {
   "cell_type": "code",
   "execution_count": null,
   "outputs": [],
   "source": [],
   "metadata": {
    "collapsed": false
   }
  }
 ]
}
