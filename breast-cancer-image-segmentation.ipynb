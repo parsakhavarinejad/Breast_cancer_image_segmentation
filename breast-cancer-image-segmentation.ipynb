{
 "cells": [
  {
   "cell_type": "code",
   "execution_count": 1,
   "metadata": {
    "execution": {
     "iopub.execute_input": "2023-06-10T00:30:54.976396Z",
     "iopub.status.busy": "2023-06-10T00:30:54.975802Z",
     "iopub.status.idle": "2023-06-10T00:30:54.983680Z",
     "shell.execute_reply": "2023-06-10T00:30:54.982275Z",
     "shell.execute_reply.started": "2023-06-10T00:30:54.976356Z"
    }
   },
   "outputs": [],
   "source": [
    "# pip install tensorflow"
   ]
  },
  {
   "cell_type": "code",
   "execution_count": 4,
   "metadata": {
    "execution": {
     "iopub.execute_input": "2023-06-10T00:30:54.986172Z",
     "iopub.status.busy": "2023-06-10T00:30:54.985616Z",
     "iopub.status.idle": "2023-06-10T00:30:57.913049Z",
     "shell.execute_reply": "2023-06-10T00:30:57.911348Z",
     "shell.execute_reply.started": "2023-06-10T00:30:54.986140Z"
    }
   },
   "outputs": [],
   "source": [
    "import pandas as pd\n",
    "import numpy as np\n",
    "import matplotlib.pyplot as plt\n",
    "import seaborn as sns\n",
    "import os\n",
    "import cv2\n",
    "\n",
    "import warnings\n",
    "warnings.filterwarnings(\"ignore\")\n",
    "\n",
    "from PIL import Image\n",
    "\n",
    "import tensorflow as tf\n",
    "from tensorflow.keras.utils import load_img\n",
    "from tensorflow.keras.models import Model\n",
    "from tensorflow.keras.layers import Input, Conv2D, MaxPooling2D, Dropout, concatenate, Conv2DTranspose\n",
    "import random"
   ]
  },
  {
   "cell_type": "code",
   "execution_count": 5,
   "metadata": {
    "execution": {
     "iopub.execute_input": "2023-06-10T00:31:23.591038Z",
     "iopub.status.busy": "2023-06-10T00:31:23.590625Z",
     "iopub.status.idle": "2023-06-10T00:31:23.597632Z",
     "shell.execute_reply": "2023-06-10T00:31:23.596177Z",
     "shell.execute_reply.started": "2023-06-10T00:31:23.591003Z"
    }
   },
   "outputs": [
    {
     "name": "stdout",
     "output_type": "stream",
     "text": [
      "2.12.0\n"
     ]
    }
   ],
   "source": [
    "print(tf.__version__)"
   ]
  },
  {
   "cell_type": "code",
   "execution_count": 6,
   "metadata": {
    "execution": {
     "iopub.execute_input": "2023-06-10T00:31:27.099150Z",
     "iopub.status.busy": "2023-06-10T00:31:27.098788Z",
     "iopub.status.idle": "2023-06-10T00:31:27.658404Z",
     "shell.execute_reply": "2023-06-10T00:31:27.657283Z",
     "shell.execute_reply.started": "2023-06-10T00:31:27.099118Z"
    }
   },
   "outputs": [],
   "source": [
    "benign_path = \"Dataset_BUSI_with_GT/benign\"\n",
    "normal_path = \"Dataset_BUSI_with_GT/normal\"\n",
    "malignant_path = \"Dataset_BUSI_with_GT/malignant\"\n",
    "benign_dataset = []\n",
    "normal_dataset = []\n",
    "malignant_dataset = []\n",
    "\n",
    "classes_path = [benign_path, normal_path, malignant_path]\n",
    "classes_dataset = [benign_dataset, normal_dataset, malignant_dataset]\n",
    "\n",
    "for index, _class in enumerate(classes_path):\n",
    "    for filename in os.listdir(_class):\n",
    "        image_path = os.path.join(_class, filename)\n",
    "        \n",
    "        if os.path.isfile(image_path) and filename.lower().endswith(').png'):\n",
    "            mask_path = filename.replace('.png', '_mask.png')\n",
    "            filename = os.path.join(_class, filename) \n",
    "            mask_path = os.path.join(_class, mask_path) \n",
    "            classes_dataset[index].append((filename ,mask_path))"
   ]
  },
  {
   "cell_type": "code",
   "execution_count": 7,
   "metadata": {
    "execution": {
     "iopub.execute_input": "2023-06-10T00:31:31.737145Z",
     "iopub.status.busy": "2023-06-10T00:31:31.735952Z",
     "iopub.status.idle": "2023-06-10T00:31:31.746741Z",
     "shell.execute_reply": "2023-06-10T00:31:31.745399Z",
     "shell.execute_reply.started": "2023-06-10T00:31:31.737106Z"
    }
   },
   "outputs": [
    {
     "name": "stdout",
     "output_type": "stream",
     "text": [
      "The length of the benign class is 437\n",
      "The length of the normal class is 133\n",
      "The length of the malignant class is 210\n",
      "\u001b[33m----------------------------------------\n",
      "\u001b[30mThe total length of the dataset is 780\n"
     ]
    }
   ],
   "source": [
    "color_yellow = '\\033[33m' \n",
    "color_black = '\\033[30m'\n",
    "\n",
    "length = 0\n",
    "for _class in classes_dataset:\n",
    "    print('The length of the {} class is {}'.format(_class[0][0].split('/')[-2], len(_class)))\n",
    "    length += len(_class)\n",
    "print(color_yellow + 40*'-')\n",
    "print(color_black + 'The total length of the dataset is ' + str(length))"
   ]
  },
  {
   "cell_type": "code",
   "execution_count": 8,
   "metadata": {},
   "outputs": [],
   "source": [
    "classes_dataset = [path for sublist in classes_dataset for path in sublist]"
   ]
  },
  {
   "cell_type": "code",
   "execution_count": 9,
   "metadata": {},
   "outputs": [
    {
     "data": {
      "text/plain": [
       "('Dataset_BUSI_with_GT/benign/benign (147).png',\n",
       " 'Dataset_BUSI_with_GT/benign/benign (147)_mask.png')"
      ]
     },
     "execution_count": 9,
     "metadata": {},
     "output_type": "execute_result"
    }
   ],
   "source": [
    "classes_dataset[1]"
   ]
  },
  {
   "cell_type": "code",
   "execution_count": 19,
   "metadata": {
    "scrolled": true
   },
   "outputs": [],
   "source": [
    "# image = cv2.imread(classes_dataset[1][0])\n",
    "# mask = cv2.imread(classes_dataset[1][1]) "
   ]
  },
  {
   "cell_type": "code",
   "execution_count": 32,
   "metadata": {},
   "outputs": [
    {
     "data": {
      "text/plain": [
       "True"
      ]
     },
     "execution_count": 32,
     "metadata": {},
     "output_type": "execute_result"
    }
   ],
   "source": [
    "# added_image = cv2.addWeighted(image,0.6,mask,0.1,0)\n",
    "\n",
    "# cv2.imwrite('combined.png', added_image)"
   ]
  },
  {
   "cell_type": "code",
   "execution_count": 30,
   "metadata": {},
   "outputs": [],
   "source": [
    "# image = cv2.imread('combined.png')"
   ]
  },
  {
   "cell_type": "code",
   "execution_count": 11,
   "metadata": {
    "execution": {
     "iopub.execute_input": "2023-06-10T00:48:23.906335Z",
     "iopub.status.busy": "2023-06-10T00:48:23.905938Z",
     "iopub.status.idle": "2023-06-10T00:48:23.916767Z",
     "shell.execute_reply": "2023-06-10T00:48:23.915836Z",
     "shell.execute_reply.started": "2023-06-10T00:48:23.906302Z"
    }
   },
   "outputs": [],
   "source": [
    "\n",
    "class UNet:\n",
    "    def __init__(self, input_shape, num_classes):\n",
    "        self.input_shape = input_shape\n",
    "        self.num_classes = num_classes\n",
    "        self.model = self.build_model()\n",
    "\n",
    "    def conv_block(self, inputs, filters, kernel_size=3, activation='relu', padding='same'):\n",
    "        conv = Conv2D(filters, kernel_size, activation=activation, padding=padding)(inputs)\n",
    "        conv = Conv2D(filters, kernel_size, activation=activation, padding=padding)(conv)\n",
    "        return conv\n",
    "\n",
    "    def build_model(self):\n",
    "        inputs = Input(self.input_shape)\n",
    "\n",
    "        # Encoder\n",
    "        conv1 = self.conv_block(inputs, 64)\n",
    "        pool1 = MaxPooling2D(pool_size=(2, 2))(conv1)\n",
    "\n",
    "        conv2 = self.conv_block(pool1, 128)\n",
    "        pool2 = MaxPooling2D(pool_size=(2, 2))(conv2)\n",
    "\n",
    "        conv3 = self.conv_block(pool2, 256)\n",
    "        pool3 = MaxPooling2D(pool_size=(2, 2))(conv3)\n",
    "\n",
    "        conv4 = self.conv_block(pool3, 512)\n",
    "        pool4 = MaxPooling2D(pool_size=(2, 2))(conv4)\n",
    "\n",
    "        conv5 = self.conv_block(pool4, 1024)\n",
    "\n",
    "        # Decoder\n",
    "        up6 = Conv2DTranspose(512, (2, 2), strides=(2, 2), padding='same')(conv5)\n",
    "        concat6 = concatenate([conv4, up6], axis=3)\n",
    "        conv6 = self.conv_block(concat6, 512)\n",
    "\n",
    "        up7 = Conv2DTranspose(256, (2, 2), strides=(2, 2), padding='same')(conv6)\n",
    "        concat7 = concatenate([conv3, up7], axis=3)\n",
    "        conv7 = self.conv_block(concat7, 256)\n",
    "\n",
    "        up8 = Conv2DTranspose(128, (2, 2), strides=(2, 2), padding='same')(conv7)\n",
    "        concat8 = concatenate([conv2, up8], axis=3)\n",
    "        conv8 = self.conv_block(concat8, 128)\n",
    "\n",
    "        up9 = Conv2DTranspose(64, (2, 2), strides=(2, 2), padding='same')(conv8)\n",
    "        concat9 = concatenate([conv1, up9], axis=3)\n",
    "        conv9 = self.conv_block(concat9, 64)\n",
    "\n",
    "        # Output\n",
    "        outputs = Conv2D(self.num_classes, (1, 1), activation='softmax')(conv9)\n",
    "\n",
    "        model = Model(inputs=inputs, outputs=outputs)\n",
    "        return model\n"
   ]
  },
  {
   "cell_type": "code",
   "execution_count": 13,
   "metadata": {},
   "outputs": [
    {
     "name": "stdout",
     "output_type": "stream",
     "text": [
      "Model: \"model_4\"\n",
      "__________________________________________________________________________________________________\n",
      " Layer (type)                   Output Shape         Param #     Connected to                     \n",
      "==================================================================================================\n",
      " input_5 (InputLayer)           [(None, 256, 256, 3  0           []                               \n",
      "                                )]                                                                \n",
      "                                                                                                  \n",
      " conv2d_76 (Conv2D)             (None, 256, 256, 64  1792        ['input_5[0][0]']                \n",
      "                                )                                                                 \n",
      "                                                                                                  \n",
      " conv2d_77 (Conv2D)             (None, 256, 256, 64  36928       ['conv2d_76[0][0]']              \n",
      "                                )                                                                 \n",
      "                                                                                                  \n",
      " max_pooling2d_16 (MaxPooling2D  (None, 128, 128, 64  0          ['conv2d_77[0][0]']              \n",
      " )                              )                                                                 \n",
      "                                                                                                  \n",
      " conv2d_78 (Conv2D)             (None, 128, 128, 12  73856       ['max_pooling2d_16[0][0]']       \n",
      "                                8)                                                                \n",
      "                                                                                                  \n",
      " conv2d_79 (Conv2D)             (None, 128, 128, 12  147584      ['conv2d_78[0][0]']              \n",
      "                                8)                                                                \n",
      "                                                                                                  \n",
      " max_pooling2d_17 (MaxPooling2D  (None, 64, 64, 128)  0          ['conv2d_79[0][0]']              \n",
      " )                                                                                                \n",
      "                                                                                                  \n",
      " conv2d_80 (Conv2D)             (None, 64, 64, 256)  295168      ['max_pooling2d_17[0][0]']       \n",
      "                                                                                                  \n",
      " conv2d_81 (Conv2D)             (None, 64, 64, 256)  590080      ['conv2d_80[0][0]']              \n",
      "                                                                                                  \n",
      " max_pooling2d_18 (MaxPooling2D  (None, 32, 32, 256)  0          ['conv2d_81[0][0]']              \n",
      " )                                                                                                \n",
      "                                                                                                  \n",
      " conv2d_82 (Conv2D)             (None, 32, 32, 512)  1180160     ['max_pooling2d_18[0][0]']       \n",
      "                                                                                                  \n",
      " conv2d_83 (Conv2D)             (None, 32, 32, 512)  2359808     ['conv2d_82[0][0]']              \n",
      "                                                                                                  \n",
      " max_pooling2d_19 (MaxPooling2D  (None, 16, 16, 512)  0          ['conv2d_83[0][0]']              \n",
      " )                                                                                                \n",
      "                                                                                                  \n",
      " conv2d_84 (Conv2D)             (None, 16, 16, 1024  4719616     ['max_pooling2d_19[0][0]']       \n",
      "                                )                                                                 \n",
      "                                                                                                  \n",
      " conv2d_85 (Conv2D)             (None, 16, 16, 1024  9438208     ['conv2d_84[0][0]']              \n",
      "                                )                                                                 \n",
      "                                                                                                  \n",
      " conv2d_transpose_16 (Conv2DTra  (None, 32, 32, 512)  2097664    ['conv2d_85[0][0]']              \n",
      " nspose)                                                                                          \n",
      "                                                                                                  \n",
      " concatenate_16 (Concatenate)   (None, 32, 32, 1024  0           ['conv2d_83[0][0]',              \n",
      "                                )                                 'conv2d_transpose_16[0][0]']    \n",
      "                                                                                                  \n",
      " conv2d_86 (Conv2D)             (None, 32, 32, 512)  4719104     ['concatenate_16[0][0]']         \n",
      "                                                                                                  \n",
      " conv2d_87 (Conv2D)             (None, 32, 32, 512)  2359808     ['conv2d_86[0][0]']              \n",
      "                                                                                                  \n",
      " conv2d_transpose_17 (Conv2DTra  (None, 64, 64, 256)  524544     ['conv2d_87[0][0]']              \n",
      " nspose)                                                                                          \n",
      "                                                                                                  \n",
      " concatenate_17 (Concatenate)   (None, 64, 64, 512)  0           ['conv2d_81[0][0]',              \n",
      "                                                                  'conv2d_transpose_17[0][0]']    \n",
      "                                                                                                  \n",
      " conv2d_88 (Conv2D)             (None, 64, 64, 256)  1179904     ['concatenate_17[0][0]']         \n",
      "                                                                                                  \n",
      " conv2d_89 (Conv2D)             (None, 64, 64, 256)  590080      ['conv2d_88[0][0]']              \n",
      "                                                                                                  \n",
      " conv2d_transpose_18 (Conv2DTra  (None, 128, 128, 12  131200     ['conv2d_89[0][0]']              \n",
      " nspose)                        8)                                                                \n",
      "                                                                                                  \n",
      " concatenate_18 (Concatenate)   (None, 128, 128, 25  0           ['conv2d_79[0][0]',              \n",
      "                                6)                                'conv2d_transpose_18[0][0]']    \n",
      "                                                                                                  \n",
      " conv2d_90 (Conv2D)             (None, 128, 128, 12  295040      ['concatenate_18[0][0]']         \n",
      "                                8)                                                                \n",
      "                                                                                                  \n",
      " conv2d_91 (Conv2D)             (None, 128, 128, 12  147584      ['conv2d_90[0][0]']              \n",
      "                                8)                                                                \n",
      "                                                                                                  \n",
      " conv2d_transpose_19 (Conv2DTra  (None, 256, 256, 64  32832      ['conv2d_91[0][0]']              \n",
      " nspose)                        )                                                                 \n",
      "                                                                                                  \n",
      " concatenate_19 (Concatenate)   (None, 256, 256, 12  0           ['conv2d_77[0][0]',              \n",
      "                                8)                                'conv2d_transpose_19[0][0]']    \n",
      "                                                                                                  \n",
      " conv2d_92 (Conv2D)             (None, 256, 256, 64  73792       ['concatenate_19[0][0]']         \n"
     ]
    },
    {
     "name": "stdout",
     "output_type": "stream",
     "text": [
      "                                )                                                                 \n",
      "                                                                                                  \n",
      " conv2d_93 (Conv2D)             (None, 256, 256, 64  36928       ['conv2d_92[0][0]']              \n",
      "                                )                                                                 \n",
      "                                                                                                  \n",
      " conv2d_94 (Conv2D)             (None, 256, 256, 3)  195         ['conv2d_93[0][0]']              \n",
      "                                                                                                  \n",
      "==================================================================================================\n",
      "Total params: 31,031,875\n",
      "Trainable params: 31,031,875\n",
      "Non-trainable params: 0\n",
      "__________________________________________________________________________________________________\n"
     ]
    }
   ],
   "source": [
    "input_shape = (256, 256, 3)\n",
    "num_classes = 3\n",
    "\n",
    "unet = UNet(input_shape, num_classes)\n",
    "model = unet.model\n",
    "model.summary()"
   ]
  },
  {
   "cell_type": "code",
   "execution_count": null,
   "metadata": {},
   "outputs": [],
   "source": []
  }
 ],
 "metadata": {
  "kernelspec": {
   "display_name": "Python 3 (ipykernel)",
   "language": "python",
   "name": "python3"
  },
  "language_info": {
   "codemirror_mode": {
    "name": "ipython",
    "version": 3
   },
   "file_extension": ".py",
   "mimetype": "text/x-python",
   "name": "python",
   "nbconvert_exporter": "python",
   "pygments_lexer": "ipython3",
   "version": "3.8.16"
  }
 },
 "nbformat": 4,
 "nbformat_minor": 4
}
